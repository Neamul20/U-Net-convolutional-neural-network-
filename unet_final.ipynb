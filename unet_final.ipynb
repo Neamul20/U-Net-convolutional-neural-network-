{
 "cells": [
  {
   "cell_type": "code",
   "execution_count": 1,
   "metadata": {
    "id": "PLAVtyAQWAY1"
   },
   "outputs": [],
   "source": [
    "import numpy as np\n",
    "import matplotlib.pyplot as plt\n",
    "import torch\n",
    "from torch.utils.data import TensorDataset, DataLoader \n",
    "from data_loader import *\n",
    "import torchvision\n",
    "from unet_model import *"
   ]
  },
  {
   "cell_type": "code",
   "execution_count": 2,
   "metadata": {
    "id": "uPFyk5kVa_Bb"
   },
   "outputs": [],
   "source": [
    "x_train_data=np.load ('x_train.npy')\n",
    "y_train_data=np.load ('y_train.npy')\n",
    "# TODO change y_valid.npy shape\n",
    "\n",
    "x_valid_data= np.load('x_valid.npy')\n",
    "y_valid_data= np.load('y_valid.npy')\n"
   ]
  },
  {
   "cell_type": "code",
   "execution_count": 3,
   "metadata": {},
   "outputs": [
    {
     "data": {
      "text/plain": [
       "(297, 192, 192)"
      ]
     },
     "execution_count": 3,
     "metadata": {},
     "output_type": "execute_result"
    }
   ],
   "source": [
    "y_valid_data.shape"
   ]
  },
  {
   "cell_type": "code",
   "execution_count": 4,
   "metadata": {},
   "outputs": [],
   "source": [
    "x_train_data=x_train_data [0:300]\n",
    "y_train_data=y_train_data[0:300]\n",
    "x_valid_data=x_valid_data [0:50]\n",
    "y_valid_data=y_valid_data[0:50]\n"
   ]
  },
  {
   "cell_type": "code",
   "execution_count": 5,
   "metadata": {
    "id": "svQlF_5WiZuO"
   },
   "outputs": [],
   "source": [
    " # ==============Dataset=================\n",
    "#mri_dataset = MRIDataset(x_data, y_data, transform=ToTensor())\n",
    "#composed = torchvision.transforms.Compose([ToTensor(), MulTransform(100)])\n",
    "mri_train_dataset = MRIDataset(x_train_data, y_train_data, transform=ToTensor())\n",
    "mri_valid_dataset=MRIDataset (x_valid_data, y_valid_data, transform=ToTensor())\n"
   ]
  },
  {
   "cell_type": "code",
   "execution_count": 6,
   "metadata": {
    "id": "E5V4GkprliAm"
   },
   "outputs": [],
   "source": [
    "# ===========Data Iterator===========\n",
    "train_iter = DataLoader(dataset=mri_train_dataset, batch_size=10, shuffle=True)\n",
    "valid_iter=DataLoader(dataset=mri_valid_dataset, batch_size=5, shuffle=True)\n"
   ]
  },
  {
   "cell_type": "code",
   "execution_count": 7,
   "metadata": {
    "colab": {
     "base_uri": "https://localhost:8080/"
    },
    "id": "OiAR5uR_mrFr",
    "outputId": "74c9129a-b6de-4c31-dcd9-0b47bac0036d"
   },
   "outputs": [
    {
     "name": "stdout",
     "output_type": "stream",
     "text": [
      "img: \n",
      "torch.Size([10, 192, 192])\n"
     ]
    }
   ],
   "source": [
    "for idx,(x_train,y_train) in enumerate(train_iter):\n",
    "  print(f\"img: \\n{x_train.shape}\")\n",
    "  break\n",
    "\n",
    "\n"
   ]
  },
  {
   "cell_type": "code",
   "execution_count": 8,
   "metadata": {
    "id": "gIaPx6Vqm-KT"
   },
   "outputs": [],
   "source": [
    "torch.manual_seed(101)\n",
    "UNETmodel =  UNet(n_channels=1, n_classes=1, bilinear=True)\n",
    "criterion = nn.BCEWithLogitsLoss()#nn.CrossEntropyLoss()\n",
    "optimizer = torch.optim.Adam(UNETmodel.parameters(), lr=0.001)"
   ]
  },
  {
   "cell_type": "code",
   "execution_count": 9,
   "metadata": {},
   "outputs": [
    {
     "data": {
      "text/plain": [
       "'with torch.no_grad():\\n    y=nn.Sigmoid()(y_pred)\\n    y[y<0.5]=0\\n    y[y>=0.5]=1\\n    y=y.numpy().astype(np.uint8)'"
      ]
     },
     "execution_count": 9,
     "metadata": {},
     "output_type": "execute_result"
    }
   ],
   "source": [
    "'''with torch.no_grad():\n",
    "    y=nn.Sigmoid()(y_pred)\n",
    "    y[y<0.5]=0\n",
    "    y[y>=0.5]=1\n",
    "    y=y.numpy().astype(np.uint8)'''"
   ]
  },
  {
   "cell_type": "code",
   "execution_count": 10,
   "metadata": {
    "id": "xmRTeLjr0mw1"
   },
   "outputs": [],
   "source": [
    "def count_parameters(model):\n",
    "    params = [p.numel() for p in model.parameters() if p.requires_grad]\n",
    "    for item in params:\n",
    "        print(f'{item:>8}')\n",
    "    print(f'________\\n{sum(params):>8}')\n",
    "    \n",
    "    \n",
    "def accuracy(pred,train):\n",
    "    with torch.no_grad():\n",
    "        pred=nn.Sigmoid()(pred)\n",
    "        pred[pred<0.5]=0\n",
    "        pred[pred>=0.5]=1\n",
    "        pred=pred.numpy().astype(np.uint8)\n",
    "        train=train.numpy().astype(np.uint8)\n",
    "    \n",
    "    pred=pred.ravel ()\n",
    "    train=train.ravel ()\n",
    "    match =len (np.where(pred==train) [0])\n",
    "   # match =len (np.where((pred==train)& (pred==1)) [0]) # check if 1 are matches\n",
    "    #Original_total=len (np.where(train==1)[0]) # total one in train image\n",
    "    \n",
    "   \n",
    "   \n",
    "    return ((match/len(train))*100)          "
   ]
  },
  {
   "cell_type": "code",
   "execution_count": 11,
   "metadata": {
    "id": "6exs4rfq5BSc"
   },
   "outputs": [],
   "source": [
    "#count_parameters(UNETmodel)"
   ]
  },
  {
   "cell_type": "code",
   "execution_count": 12,
   "metadata": {},
   "outputs": [],
   "source": [
    "#accuracy (y_pred,y_train)"
   ]
  },
  {
   "cell_type": "code",
   "execution_count": 13,
   "metadata": {},
   "outputs": [
    {
     "ename": "NameError",
     "evalue": "name 'y_pred' is not defined",
     "output_type": "error",
     "traceback": [
      "\u001b[0;31m---------------------------------------------------------------------------\u001b[0m",
      "\u001b[0;31mNameError\u001b[0m                                 Traceback (most recent call last)",
      "\u001b[0;32m<ipython-input-13-ac7b0515017c>\u001b[0m in \u001b[0;36m<module>\u001b[0;34m\u001b[0m\n\u001b[0;32m----> 1\u001b[0;31m \u001b[0mprint\u001b[0m \u001b[0;34m(\u001b[0m\u001b[0my_pred\u001b[0m\u001b[0;34m.\u001b[0m\u001b[0mshape\u001b[0m\u001b[0;34m,\u001b[0m\u001b[0my_train\u001b[0m\u001b[0;34m.\u001b[0m\u001b[0mshape\u001b[0m\u001b[0;34m)\u001b[0m\u001b[0;34m\u001b[0m\u001b[0;34m\u001b[0m\u001b[0m\n\u001b[0m",
      "\u001b[0;31mNameError\u001b[0m: name 'y_pred' is not defined"
     ]
    }
   ],
   "source": [
    "print (y_pred.shape,y_train.shape)"
   ]
  },
  {
   "cell_type": "code",
   "execution_count": 14,
   "metadata": {
    "colab": {
     "base_uri": "https://localhost:8080/",
     "height": 256
    },
    "id": "Nfck9ciV8eQx",
    "outputId": "151e100e-7f54-404e-b1de-2429966d55b2"
   },
   "outputs": [
    {
     "name": "stdout",
     "output_type": "stream",
     "text": [
      "epoch:  0  batch:    1 [     1/30]  loss: 0.94380242      accuracy: 6.9558%\n",
      "epoch:  0  batch:    2 [     2/30]  loss: 0.83711851      accuracy: 61.0067%\n",
      "epoch:  0  batch:    3 [     3/30]  loss: 0.77051401      accuracy: 60.1202%\n",
      "epoch:  0  batch:    4 [     4/30]  loss: 0.71095061      accuracy: 74.4078%\n",
      "epoch:  0  batch:    5 [     5/30]  loss: 0.67988533      accuracy: 67.7165%\n",
      "epoch:  0  batch:    6 [     6/30]  loss: 0.63167274      accuracy: 75.5284%\n",
      "epoch:  0  batch:    7 [     7/30]  loss: 0.60622799      accuracy: 77.9167%\n",
      "epoch:  0  batch:    8 [     8/30]  loss: 0.57953686      accuracy: 83.3209%\n",
      "epoch:  0  batch:    9 [     9/30]  loss: 0.55075198      accuracy: 85.4110%\n",
      "epoch:  0  batch:   10 [    10/30]  loss: 0.52970350      accuracy: 87.5594%\n",
      "epoch:  0  batch:   11 [    11/30]  loss: 0.52614701      accuracy: 91.7668%\n",
      "epoch:  0  batch:   12 [    12/30]  loss: 0.50584632      accuracy: 91.8530%\n",
      "epoch:  0  batch:   13 [    13/30]  loss: 0.48448384      accuracy: 92.7002%\n",
      "epoch:  0  batch:   14 [    14/30]  loss: 0.47034615      accuracy: 91.7993%\n",
      "epoch:  0  batch:   15 [    15/30]  loss: 0.46076965      accuracy: 92.5024%\n",
      "epoch:  0  batch:   16 [    16/30]  loss: 0.44698885      accuracy: 93.7020%\n",
      "epoch:  0  batch:   17 [    17/30]  loss: 0.43927866      accuracy: 94.0275%\n",
      "epoch:  0  batch:   18 [    18/30]  loss: 0.43882760      accuracy: 94.3924%\n",
      "epoch:  0  batch:   19 [    19/30]  loss: 0.44171783      accuracy: 94.3997%\n",
      "epoch:  0  batch:   20 [    20/30]  loss: 0.43511903      accuracy: 94.5947%\n",
      "epoch:  0  batch:   21 [    21/30]  loss: 0.41596764      accuracy: 93.8924%\n",
      "epoch:  0  batch:   22 [    22/30]  loss: 0.43179342      accuracy: 95.1506%\n",
      "epoch:  0  batch:   23 [    23/30]  loss: 0.41114378      accuracy: 95.2045%\n",
      "epoch:  0  batch:   24 [    24/30]  loss: 0.40428203      accuracy: 94.7135%\n",
      "epoch:  0  batch:   25 [    25/30]  loss: 0.40393549      accuracy: 95.5295%\n",
      "epoch:  0  batch:   26 [    26/30]  loss: 0.39592791      accuracy: 95.6643%\n",
      "epoch:  0  batch:   27 [    27/30]  loss: 0.38902748      accuracy: 95.0420%\n",
      "epoch:  0  batch:   28 [    28/30]  loss: 0.38519177      accuracy: 95.3516%\n",
      "epoch:  0  batch:   29 [    29/30]  loss: 0.37819126      accuracy: 95.6424%\n",
      "epoch:  0  batch:   30 [    30/30]  loss: 0.37440822      accuracy: 95.7197%\n",
      "previous loss :10 and valid loss is 2.936937093734741\n",
      "earlystoping is getting 0......0\n",
      "epoch:  1  batch:    1 [     1/30]  loss: 3.21026206      accuracy: 11.3553%\n",
      "epoch:  1  batch:    2 [     2/30]  loss: 0.32624123      accuracy: 95.6738%\n",
      "epoch:  1  batch:    3 [     3/30]  loss: 0.25159770      accuracy: 95.1500%\n",
      "epoch:  1  batch:    4 [     4/30]  loss: 0.22055851      accuracy: 94.2906%\n",
      "epoch:  1  batch:    5 [     5/30]  loss: 0.18223271      accuracy: 94.2540%\n",
      "epoch:  1  batch:    6 [     6/30]  loss: 0.17431100      accuracy: 95.1617%\n",
      "epoch:  1  batch:    7 [     7/30]  loss: 0.12334951      accuracy: 95.8493%\n",
      "epoch:  1  batch:    8 [     8/30]  loss: 0.15060838      accuracy: 94.4317%\n",
      "epoch:  1  batch:    9 [     9/30]  loss: 0.15212587      accuracy: 94.5760%\n",
      "epoch:  1  batch:   10 [    10/30]  loss: 0.13324210      accuracy: 95.0146%\n",
      "epoch:  1  batch:   11 [    11/30]  loss: 0.13831364      accuracy: 94.7979%\n",
      "epoch:  1  batch:   12 [    12/30]  loss: 0.15099709      accuracy: 94.6007%\n",
      "epoch:  1  batch:   13 [    13/30]  loss: 0.11730501      accuracy: 95.3060%\n",
      "epoch:  1  batch:   14 [    14/30]  loss: 0.14887896      accuracy: 94.2442%\n",
      "epoch:  1  batch:   15 [    15/30]  loss: 0.11630124      accuracy: 95.4967%\n",
      "epoch:  1  batch:   16 [    16/30]  loss: 0.13390988      accuracy: 94.7502%\n",
      "epoch:  1  batch:   17 [    17/30]  loss: 0.13169049      accuracy: 94.6571%\n",
      "epoch:  1  batch:   18 [    18/30]  loss: 0.13797253      accuracy: 94.5828%\n",
      "epoch:  1  batch:   19 [    19/30]  loss: 0.13937564      accuracy: 94.2461%\n",
      "epoch:  1  batch:   20 [    20/30]  loss: 0.13827260      accuracy: 94.5207%\n",
      "epoch:  1  batch:   21 [    21/30]  loss: 0.12593746      accuracy: 94.8655%\n",
      "epoch:  1  batch:   22 [    22/30]  loss: 0.12304452      accuracy: 94.6186%\n",
      "epoch:  1  batch:   23 [    23/30]  loss: 0.12277008      accuracy: 94.6826%\n",
      "epoch:  1  batch:   24 [    24/30]  loss: 0.12301701      accuracy: 94.7556%\n",
      "epoch:  1  batch:   25 [    25/30]  loss: 0.12237293      accuracy: 95.0461%\n",
      "epoch:  1  batch:   26 [    26/30]  loss: 0.09787750      accuracy: 95.6302%\n",
      "epoch:  1  batch:   27 [    27/30]  loss: 0.13041098      accuracy: 94.5435%\n",
      "epoch:  1  batch:   28 [    28/30]  loss: 0.11499263      accuracy: 95.2349%\n",
      "epoch:  1  batch:   29 [    29/30]  loss: 0.11868123      accuracy: 94.9460%\n",
      "epoch:  1  batch:   30 [    30/30]  loss: 0.10248201      accuracy: 95.5509%\n",
      "previous loss :2.936937093734741 and valid loss is 0.09542404115200043\n",
      "earlystoping is getting 0......0\n",
      "epoch:  2  batch:    1 [     1/30]  loss: 0.11218650      accuracy: 95.1248%\n",
      "epoch:  2  batch:    2 [     2/30]  loss: 0.11724544      accuracy: 94.9042%\n",
      "epoch:  2  batch:    3 [     3/30]  loss: 0.10792559      accuracy: 95.6906%\n",
      "epoch:  2  batch:    4 [     4/30]  loss: 0.11960729      accuracy: 94.9984%\n",
      "epoch:  2  batch:    5 [     5/30]  loss: 0.12849283      accuracy: 94.9238%\n",
      "epoch:  2  batch:    6 [     6/30]  loss: 0.11935467      accuracy: 94.8825%\n",
      "epoch:  2  batch:    7 [     7/30]  loss: 0.10721586      accuracy: 95.4074%\n",
      "epoch:  2  batch:    8 [     8/30]  loss: 0.10959259      accuracy: 95.1137%\n",
      "epoch:  2  batch:    9 [     9/30]  loss: 0.11169185      accuracy: 94.9946%\n",
      "epoch:  2  batch:   10 [    10/30]  loss: 0.11343248      accuracy: 95.1430%\n",
      "epoch:  2  batch:   11 [    11/30]  loss: 0.11037180      accuracy: 95.1058%\n",
      "epoch:  2  batch:   12 [    12/30]  loss: 0.11362267      accuracy: 94.8128%\n",
      "epoch:  2  batch:   13 [    13/30]  loss: 0.10046300      accuracy: 95.3996%\n",
      "epoch:  2  batch:   14 [    14/30]  loss: 0.11781222      accuracy: 95.0887%\n",
      "epoch:  2  batch:   15 [    15/30]  loss: 0.10857476      accuracy: 95.3369%\n",
      "epoch:  2  batch:   16 [    16/30]  loss: 0.10922159      accuracy: 95.4137%\n",
      "epoch:  2  batch:   17 [    17/30]  loss: 0.12586559      accuracy: 95.0252%\n",
      "epoch:  2  batch:   18 [    18/30]  loss: 0.10716926      accuracy: 95.5745%\n",
      "epoch:  2  batch:   19 [    19/30]  loss: 0.10775158      accuracy: 95.6814%\n",
      "epoch:  2  batch:   20 [    20/30]  loss: 0.10792192      accuracy: 95.3149%\n",
      "epoch:  2  batch:   21 [    21/30]  loss: 0.10877100      accuracy: 95.6036%\n",
      "epoch:  2  batch:   22 [    22/30]  loss: 0.08838328      accuracy: 96.3612%\n",
      "epoch:  2  batch:   23 [    23/30]  loss: 0.10960156      accuracy: 95.5016%\n",
      "epoch:  2  batch:   24 [    24/30]  loss: 0.10644718      accuracy: 95.6847%\n",
      "epoch:  2  batch:   25 [    25/30]  loss: 0.12259408      accuracy: 94.9344%\n",
      "epoch:  2  batch:   26 [    26/30]  loss: 0.10770433      accuracy: 95.6019%\n",
      "epoch:  2  batch:   27 [    27/30]  loss: 0.12100355      accuracy: 95.0526%\n",
      "epoch:  2  batch:   28 [    28/30]  loss: 0.10157696      accuracy: 96.1412%\n",
      "epoch:  2  batch:   29 [    29/30]  loss: 0.10316788      accuracy: 95.5832%\n",
      "epoch:  2  batch:   30 [    30/30]  loss: 0.10895495      accuracy: 95.1598%\n",
      "previous loss :0.09542404115200043 and valid loss is 0.07765558362007141\n",
      "earlystoping is getting 0......0\n",
      "epoch:  3  batch:    1 [     1/30]  loss: 0.11331442      accuracy: 94.9113%\n",
      "epoch:  3  batch:    2 [     2/30]  loss: 0.11347771      accuracy: 95.3407%\n",
      "epoch:  3  batch:    3 [     3/30]  loss: 0.10811926      accuracy: 95.3418%\n",
      "epoch:  3  batch:    4 [     4/30]  loss: 0.10809525      accuracy: 95.3708%\n",
      "epoch:  3  batch:    5 [     5/30]  loss: 0.10501802      accuracy: 95.8385%\n",
      "epoch:  3  batch:    6 [     6/30]  loss: 0.11669585      accuracy: 94.7952%\n",
      "epoch:  3  batch:    7 [     7/30]  loss: 0.09395627      accuracy: 95.8803%\n",
      "epoch:  3  batch:    8 [     8/30]  loss: 0.11035326      accuracy: 95.0819%\n",
      "epoch:  3  batch:    9 [     9/30]  loss: 0.09639852      accuracy: 96.0856%\n",
      "epoch:  3  batch:   10 [    10/30]  loss: 0.11180218      accuracy: 95.4305%\n",
      "epoch:  3  batch:   11 [    11/30]  loss: 0.11711007      accuracy: 95.0041%\n",
      "epoch:  3  batch:   12 [    12/30]  loss: 0.08809444      accuracy: 96.2736%\n",
      "epoch:  3  batch:   13 [    13/30]  loss: 0.10181572      accuracy: 95.9012%\n"
     ]
    },
    {
     "name": "stdout",
     "output_type": "stream",
     "text": [
      "epoch:  3  batch:   14 [    14/30]  loss: 0.08809133      accuracy: 96.2652%\n",
      "epoch:  3  batch:   15 [    15/30]  loss: 0.12103570      accuracy: 95.7156%\n",
      "epoch:  3  batch:   16 [    16/30]  loss: 0.09714182      accuracy: 96.1833%\n",
      "epoch:  3  batch:   17 [    17/30]  loss: 0.10157590      accuracy: 96.0585%\n",
      "epoch:  3  batch:   18 [    18/30]  loss: 0.10858154      accuracy: 95.7259%\n",
      "epoch:  3  batch:   19 [    19/30]  loss: 0.10266400      accuracy: 96.1803%\n",
      "epoch:  3  batch:   20 [    20/30]  loss: 0.08716398      accuracy: 96.5565%\n",
      "epoch:  3  batch:   21 [    21/30]  loss: 0.10009615      accuracy: 96.0585%\n",
      "epoch:  3  batch:   22 [    22/30]  loss: 0.11599839      accuracy: 95.1807%\n",
      "epoch:  3  batch:   23 [    23/30]  loss: 0.10446429      accuracy: 95.4565%\n",
      "epoch:  3  batch:   24 [    24/30]  loss: 0.10124655      accuracy: 95.7430%\n",
      "epoch:  3  batch:   25 [    25/30]  loss: 0.08760684      accuracy: 96.3186%\n",
      "epoch:  3  batch:   26 [    26/30]  loss: 0.08636234      accuracy: 96.4228%\n",
      "epoch:  3  batch:   27 [    27/30]  loss: 0.09079020      accuracy: 96.2527%\n",
      "epoch:  3  batch:   28 [    28/30]  loss: 0.10113581      accuracy: 95.7815%\n",
      "epoch:  3  batch:   29 [    29/30]  loss: 0.10396827      accuracy: 96.2354%\n",
      "epoch:  3  batch:   30 [    30/30]  loss: 0.09089427      accuracy: 96.6154%\n",
      "previous loss :0.07765558362007141 and valid loss is 0.08082357794046402\n",
      "earlystopping increasing......1\n",
      "epoch:  4  batch:    1 [     1/30]  loss: 0.10845859      accuracy: 95.7625%\n",
      "epoch:  4  batch:    2 [     2/30]  loss: 0.07690926      accuracy: 97.0076%\n",
      "epoch:  4  batch:    3 [     3/30]  loss: 0.08647145      accuracy: 96.1803%\n",
      "epoch:  4  batch:    4 [     4/30]  loss: 0.12266789      accuracy: 94.7295%\n",
      "epoch:  4  batch:    5 [     5/30]  loss: 0.09002972      accuracy: 96.4572%\n",
      "epoch:  4  batch:    6 [     6/30]  loss: 0.09808214      accuracy: 96.0116%\n",
      "epoch:  4  batch:    7 [     7/30]  loss: 0.10971184      accuracy: 95.9836%\n",
      "epoch:  4  batch:    8 [     8/30]  loss: 0.09182453      accuracy: 96.2918%\n",
      "epoch:  4  batch:    9 [     9/30]  loss: 0.08872089      accuracy: 96.0398%\n",
      "epoch:  4  batch:   10 [    10/30]  loss: 0.08174159      accuracy: 96.5552%\n",
      "epoch:  4  batch:   11 [    11/30]  loss: 0.08262002      accuracy: 96.5085%\n",
      "epoch:  4  batch:   12 [    12/30]  loss: 0.07289016      accuracy: 97.0006%\n",
      "epoch:  4  batch:   13 [    13/30]  loss: 0.07881125      accuracy: 96.9249%\n",
      "epoch:  4  batch:   14 [    14/30]  loss: 0.09563555      accuracy: 96.2755%\n",
      "epoch:  4  batch:   15 [    15/30]  loss: 0.07821772      accuracy: 96.4179%\n",
      "epoch:  4  batch:   16 [    16/30]  loss: 0.10833352      accuracy: 94.8698%\n",
      "epoch:  4  batch:   17 [    17/30]  loss: 0.09325602      accuracy: 96.0997%\n",
      "epoch:  4  batch:   18 [    18/30]  loss: 0.09309082      accuracy: 96.2310%\n",
      "epoch:  4  batch:   19 [    19/30]  loss: 0.10498117      accuracy: 95.7406%\n",
      "epoch:  4  batch:   20 [    20/30]  loss: 0.09506527      accuracy: 96.0579%\n",
      "epoch:  4  batch:   21 [    21/30]  loss: 0.11833973      accuracy: 94.8771%\n",
      "epoch:  4  batch:   22 [    22/30]  loss: 0.09172862      accuracy: 96.0012%\n",
      "epoch:  4  batch:   23 [    23/30]  loss: 0.09899145      accuracy: 96.0135%\n",
      "epoch:  4  batch:   24 [    24/30]  loss: 0.10507970      accuracy: 95.8550%\n",
      "epoch:  4  batch:   25 [    25/30]  loss: 0.08352385      accuracy: 96.3151%\n",
      "epoch:  4  batch:   26 [    26/30]  loss: 0.09170656      accuracy: 96.3555%\n",
      "epoch:  4  batch:   27 [    27/30]  loss: 0.09552379      accuracy: 96.1171%\n",
      "epoch:  4  batch:   28 [    28/30]  loss: 0.09433327      accuracy: 96.0406%\n",
      "epoch:  4  batch:   29 [    29/30]  loss: 0.08260084      accuracy: 96.5305%\n",
      "epoch:  4  batch:   30 [    30/30]  loss: 0.07709326      accuracy: 96.8975%\n",
      "previous loss :0.08082357794046402 and valid loss is 0.07844673097133636\n",
      "earlystoping is getting 0......0\n",
      "epoch:  5  batch:    1 [     1/30]  loss: 0.09197854      accuracy: 96.3170%\n",
      "epoch:  5  batch:    2 [     2/30]  loss: 0.08199227      accuracy: 96.5972%\n",
      "epoch:  5  batch:    3 [     3/30]  loss: 0.09725408      accuracy: 96.3173%\n",
      "epoch:  5  batch:    4 [     4/30]  loss: 0.08328804      accuracy: 96.6612%\n",
      "epoch:  5  batch:    5 [     5/30]  loss: 0.08915628      accuracy: 96.2519%\n",
      "epoch:  5  batch:    6 [     6/30]  loss: 0.07622997      accuracy: 96.7684%\n",
      "epoch:  5  batch:    7 [     7/30]  loss: 0.07304630      accuracy: 96.8061%\n",
      "epoch:  5  batch:    8 [     8/30]  loss: 0.08066459      accuracy: 96.4206%\n",
      "epoch:  5  batch:    9 [     9/30]  loss: 0.07261800      accuracy: 96.9057%\n",
      "epoch:  5  batch:   10 [    10/30]  loss: 0.08821269      accuracy: 96.1214%\n",
      "epoch:  5  batch:   11 [    11/30]  loss: 0.07795698      accuracy: 96.5677%\n",
      "epoch:  5  batch:   12 [    12/30]  loss: 0.08335293      accuracy: 96.4532%\n",
      "epoch:  5  batch:   13 [    13/30]  loss: 0.07345077      accuracy: 96.7795%\n",
      "epoch:  5  batch:   14 [    14/30]  loss: 0.07648338      accuracy: 96.5430%\n",
      "epoch:  5  batch:   15 [    15/30]  loss: 0.08057886      accuracy: 96.5842%\n",
      "epoch:  5  batch:   16 [    16/30]  loss: 0.08783140      accuracy: 96.4198%\n",
      "epoch:  5  batch:   17 [    17/30]  loss: 0.06841528      accuracy: 96.9648%\n",
      "epoch:  5  batch:   18 [    18/30]  loss: 0.08177619      accuracy: 96.4404%\n",
      "epoch:  5  batch:   19 [    19/30]  loss: 0.07143702      accuracy: 96.9775%\n",
      "epoch:  5  batch:   20 [    20/30]  loss: 0.07553580      accuracy: 96.8096%\n",
      "epoch:  5  batch:   21 [    21/30]  loss: 0.08288359      accuracy: 96.5690%\n",
      "epoch:  5  batch:   22 [    22/30]  loss: 0.06527023      accuracy: 97.2928%\n",
      "epoch:  5  batch:   23 [    23/30]  loss: 0.08097064      accuracy: 96.6976%\n",
      "epoch:  5  batch:   24 [    24/30]  loss: 0.06899695      accuracy: 96.9599%\n",
      "epoch:  5  batch:   25 [    25/30]  loss: 0.07353672      accuracy: 96.7383%\n",
      "epoch:  5  batch:   26 [    26/30]  loss: 0.07720933      accuracy: 96.5978%\n",
      "epoch:  5  batch:   27 [    27/30]  loss: 0.07740892      accuracy: 96.6612%\n",
      "epoch:  5  batch:   28 [    28/30]  loss: 0.07398924      accuracy: 96.9067%\n",
      "epoch:  5  batch:   29 [    29/30]  loss: 0.07791113      accuracy: 96.8859%\n",
      "epoch:  5  batch:   30 [    30/30]  loss: 0.07097311      accuracy: 96.8837%\n",
      "previous loss :0.07844673097133636 and valid loss is 0.05954756215214729\n",
      "earlystoping is getting 0......0\n",
      "epoch:  6  batch:    1 [     1/30]  loss: 0.06829572      accuracy: 97.2884%\n",
      "epoch:  6  batch:    2 [     2/30]  loss: 0.08203722      accuracy: 96.4491%\n",
      "epoch:  6  batch:    3 [     3/30]  loss: 0.08417451      accuracy: 96.6222%\n",
      "epoch:  6  batch:    4 [     4/30]  loss: 0.07654142      accuracy: 96.7551%\n",
      "epoch:  6  batch:    5 [     5/30]  loss: 0.07539081      accuracy: 96.9065%\n",
      "epoch:  6  batch:    6 [     6/30]  loss: 0.06497268      accuracy: 97.2900%\n",
      "epoch:  6  batch:    7 [     7/30]  loss: 0.07302144      accuracy: 96.9132%\n",
      "epoch:  6  batch:    8 [     8/30]  loss: 0.07000314      accuracy: 97.0171%\n",
      "epoch:  6  batch:    9 [     9/30]  loss: 0.08861438      accuracy: 96.3797%\n",
      "epoch:  6  batch:   10 [    10/30]  loss: 0.06045685      accuracy: 97.4821%\n",
      "epoch:  6  batch:   11 [    11/30]  loss: 0.07334600      accuracy: 96.9952%\n",
      "epoch:  6  batch:   12 [    12/30]  loss: 0.07913271      accuracy: 96.7947%\n",
      "epoch:  6  batch:   13 [    13/30]  loss: 0.08104017      accuracy: 96.9222%\n",
      "epoch:  6  batch:   14 [    14/30]  loss: 0.05898552      accuracy: 97.5521%\n",
      "epoch:  6  batch:   15 [    15/30]  loss: 0.06512299      accuracy: 97.1663%\n",
      "epoch:  6  batch:   16 [    16/30]  loss: 0.07215615      accuracy: 96.9965%\n",
      "epoch:  6  batch:   17 [    17/30]  loss: 0.06718573      accuracy: 97.0980%\n",
      "epoch:  6  batch:   18 [    18/30]  loss: 0.08298574      accuracy: 96.8064%\n",
      "epoch:  6  batch:   19 [    19/30]  loss: 0.06334250      accuracy: 97.3269%\n",
      "epoch:  6  batch:   20 [    20/30]  loss: 0.06787493      accuracy: 97.2019%\n",
      "epoch:  6  batch:   21 [    21/30]  loss: 0.07376237      accuracy: 96.9561%\n",
      "epoch:  6  batch:   22 [    22/30]  loss: 0.07099143      accuracy: 96.8926%\n",
      "epoch:  6  batch:   23 [    23/30]  loss: 0.06000536      accuracy: 97.5225%\n",
      "epoch:  6  batch:   24 [    24/30]  loss: 0.06834123      accuracy: 97.1905%\n",
      "epoch:  6  batch:   25 [    25/30]  loss: 0.07411865      accuracy: 96.9390%\n",
      "epoch:  6  batch:   26 [    26/30]  loss: 0.06536249      accuracy: 97.2678%\n"
     ]
    },
    {
     "name": "stdout",
     "output_type": "stream",
     "text": [
      "epoch:  6  batch:   27 [    27/30]  loss: 0.06463285      accuracy: 97.2523%\n",
      "epoch:  6  batch:   28 [    28/30]  loss: 0.07490402      accuracy: 96.8462%\n",
      "epoch:  6  batch:   29 [    29/30]  loss: 0.06021790      accuracy: 97.5279%\n",
      "epoch:  6  batch:   30 [    30/30]  loss: 0.05491965      accuracy: 97.7124%\n",
      "previous loss :0.05954756215214729 and valid loss is 0.0755700021982193\n",
      "earlystopping increasing......1\n",
      "epoch:  7  batch:    1 [     1/30]  loss: 0.07151413      accuracy: 97.1604%\n",
      "epoch:  7  batch:    2 [     2/30]  loss: 0.08168563      accuracy: 96.4608%\n",
      "epoch:  7  batch:    3 [     3/30]  loss: 0.06123157      accuracy: 97.5301%\n",
      "epoch:  7  batch:    4 [     4/30]  loss: 0.07505561      accuracy: 96.9236%\n",
      "epoch:  7  batch:    5 [     5/30]  loss: 0.07357328      accuracy: 97.0890%\n",
      "epoch:  7  batch:    6 [     6/30]  loss: 0.07714201      accuracy: 96.7977%\n",
      "epoch:  7  batch:    7 [     7/30]  loss: 0.05697027      accuracy: 97.5705%\n",
      "epoch:  7  batch:    8 [     8/30]  loss: 0.07070208      accuracy: 97.0589%\n",
      "epoch:  7  batch:    9 [     9/30]  loss: 0.06766108      accuracy: 97.2510%\n",
      "epoch:  7  batch:   10 [    10/30]  loss: 0.06962121      accuracy: 97.2285%\n",
      "epoch:  7  batch:   11 [    11/30]  loss: 0.05924155      accuracy: 97.4539%\n",
      "epoch:  7  batch:   12 [    12/30]  loss: 0.06812271      accuracy: 97.2960%\n",
      "epoch:  7  batch:   13 [    13/30]  loss: 0.05495039      accuracy: 97.6831%\n",
      "epoch:  7  batch:   14 [    14/30]  loss: 0.06064780      accuracy: 97.5035%\n",
      "epoch:  7  batch:   15 [    15/30]  loss: 0.06222511      accuracy: 97.5559%\n",
      "epoch:  7  batch:   16 [    16/30]  loss: 0.07502021      accuracy: 96.9900%\n",
      "epoch:  7  batch:   17 [    17/30]  loss: 0.06124542      accuracy: 97.3234%\n",
      "epoch:  7  batch:   18 [    18/30]  loss: 0.07277175      accuracy: 96.9548%\n",
      "epoch:  7  batch:   19 [    19/30]  loss: 0.05799096      accuracy: 97.5127%\n",
      "epoch:  7  batch:   20 [    20/30]  loss: 0.06547007      accuracy: 97.3535%\n",
      "epoch:  7  batch:   21 [    21/30]  loss: 0.06589383      accuracy: 97.2759%\n",
      "epoch:  7  batch:   22 [    22/30]  loss: 0.05809754      accuracy: 97.4948%\n",
      "epoch:  7  batch:   23 [    23/30]  loss: 0.05898054      accuracy: 97.4517%\n",
      "epoch:  7  batch:   24 [    24/30]  loss: 0.07133313      accuracy: 97.1368%\n",
      "epoch:  7  batch:   25 [    25/30]  loss: 0.07197463      accuracy: 97.3408%\n",
      "epoch:  7  batch:   26 [    26/30]  loss: 0.06910747      accuracy: 97.1823%\n",
      "epoch:  7  batch:   27 [    27/30]  loss: 0.07252355      accuracy: 96.9748%\n",
      "epoch:  7  batch:   28 [    28/30]  loss: 0.06058936      accuracy: 97.5195%\n",
      "epoch:  7  batch:   29 [    29/30]  loss: 0.07007163      accuracy: 97.0885%\n",
      "epoch:  7  batch:   30 [    30/30]  loss: 0.07109841      accuracy: 97.1286%\n",
      "previous loss :0.0755700021982193 and valid loss is 0.060774579644203186\n",
      "earlystoping is getting 0......0\n",
      "epoch:  8  batch:    1 [     1/30]  loss: 0.06562626      accuracy: 97.3787%\n",
      "epoch:  8  batch:    2 [     2/30]  loss: 0.06008983      accuracy: 97.6310%\n",
      "epoch:  8  batch:    3 [     3/30]  loss: 0.07015981      accuracy: 97.2149%\n",
      "epoch:  8  batch:    4 [     4/30]  loss: 0.06292114      accuracy: 97.3581%\n",
      "epoch:  8  batch:    5 [     5/30]  loss: 0.06364937      accuracy: 97.4344%\n",
      "epoch:  8  batch:    6 [     6/30]  loss: 0.06673279      accuracy: 97.1823%\n",
      "epoch:  8  batch:    7 [     7/30]  loss: 0.05163140      accuracy: 97.8532%\n",
      "epoch:  8  batch:    8 [     8/30]  loss: 0.05793641      accuracy: 97.6733%\n",
      "epoch:  8  batch:    9 [     9/30]  loss: 0.04747976      accuracy: 98.1467%\n",
      "epoch:  8  batch:   10 [    10/30]  loss: 0.05070752      accuracy: 97.8665%\n",
      "epoch:  8  batch:   11 [    11/30]  loss: 0.06892750      accuracy: 97.3218%\n",
      "epoch:  8  batch:   12 [    12/30]  loss: 0.06067609      accuracy: 97.4791%\n",
      "epoch:  8  batch:   13 [    13/30]  loss: 0.06458862      accuracy: 97.2390%\n",
      "epoch:  8  batch:   14 [    14/30]  loss: 0.05747252      accuracy: 97.6299%\n",
      "epoch:  8  batch:   15 [    15/30]  loss: 0.06508361      accuracy: 97.3036%\n",
      "epoch:  8  batch:   16 [    16/30]  loss: 0.05835606      accuracy: 97.6291%\n",
      "epoch:  8  batch:   17 [    17/30]  loss: 0.06435256      accuracy: 97.3231%\n",
      "epoch:  8  batch:   18 [    18/30]  loss: 0.05371694      accuracy: 97.7629%\n",
      "epoch:  8  batch:   19 [    19/30]  loss: 0.05528663      accuracy: 97.7591%\n",
      "epoch:  8  batch:   20 [    20/30]  loss: 0.06114931      accuracy: 97.4986%\n",
      "epoch:  8  batch:   21 [    21/30]  loss: 0.06180803      accuracy: 97.4674%\n",
      "epoch:  8  batch:   22 [    22/30]  loss: 0.06529018      accuracy: 97.2062%\n",
      "epoch:  8  batch:   23 [    23/30]  loss: 0.07366386      accuracy: 97.0337%\n",
      "epoch:  8  batch:   24 [    24/30]  loss: 0.05675868      accuracy: 97.7281%\n",
      "epoch:  8  batch:   25 [    25/30]  loss: 0.06335294      accuracy: 97.4921%\n",
      "epoch:  8  batch:   26 [    26/30]  loss: 0.04746966      accuracy: 98.0162%\n",
      "epoch:  8  batch:   27 [    27/30]  loss: 0.05622407      accuracy: 97.7186%\n",
      "epoch:  8  batch:   28 [    28/30]  loss: 0.06249269      accuracy: 97.4748%\n",
      "epoch:  8  batch:   29 [    29/30]  loss: 0.06376716      accuracy: 97.3953%\n",
      "epoch:  8  batch:   30 [    30/30]  loss: 0.06550968      accuracy: 97.4175%\n",
      "previous loss :0.060774579644203186 and valid loss is 0.07083696871995926\n",
      "earlystopping increasing......1\n",
      "epoch:  9  batch:    1 [     1/30]  loss: 0.06379556      accuracy: 97.2081%\n",
      "epoch:  9  batch:    2 [     2/30]  loss: 0.06663323      accuracy: 97.2762%\n",
      "epoch:  9  batch:    3 [     3/30]  loss: 0.05863763      accuracy: 97.6153%\n",
      "epoch:  9  batch:    4 [     4/30]  loss: 0.06216114      accuracy: 97.4476%\n",
      "epoch:  9  batch:    5 [     5/30]  loss: 0.06671672      accuracy: 97.1726%\n",
      "epoch:  9  batch:    6 [     6/30]  loss: 0.05648545      accuracy: 97.6058%\n",
      "epoch:  9  batch:    7 [     7/30]  loss: 0.05891460      accuracy: 97.5613%\n",
      "epoch:  9  batch:    8 [     8/30]  loss: 0.06725961      accuracy: 97.1406%\n",
      "epoch:  9  batch:    9 [     9/30]  loss: 0.06017032      accuracy: 97.5741%\n",
      "epoch:  9  batch:   10 [    10/30]  loss: 0.06482677      accuracy: 97.3777%\n",
      "epoch:  9  batch:   11 [    11/30]  loss: 0.05190029      accuracy: 97.9015%\n",
      "epoch:  9  batch:   12 [    12/30]  loss: 0.05886602      accuracy: 97.6709%\n",
      "epoch:  9  batch:   13 [    13/30]  loss: 0.05036969      accuracy: 97.9367%\n",
      "epoch:  9  batch:   14 [    14/30]  loss: 0.06207067      accuracy: 97.3874%\n",
      "epoch:  9  batch:   15 [    15/30]  loss: 0.05220467      accuracy: 97.8250%\n",
      "epoch:  9  batch:   16 [    16/30]  loss: 0.05837807      accuracy: 97.7702%\n",
      "epoch:  9  batch:   17 [    17/30]  loss: 0.04772639      accuracy: 98.0683%\n",
      "epoch:  9  batch:   18 [    18/30]  loss: 0.06384815      accuracy: 97.3172%\n",
      "epoch:  9  batch:   19 [    19/30]  loss: 0.06200478      accuracy: 97.4474%\n",
      "epoch:  9  batch:   20 [    20/30]  loss: 0.04698410      accuracy: 98.0260%\n",
      "epoch:  9  batch:   21 [    21/30]  loss: 0.05634225      accuracy: 97.6997%\n",
      "epoch:  9  batch:   22 [    22/30]  loss: 0.05284059      accuracy: 97.8654%\n",
      "epoch:  9  batch:   23 [    23/30]  loss: 0.04396480      accuracy: 98.2332%\n",
      "epoch:  9  batch:   24 [    24/30]  loss: 0.05406967      accuracy: 97.8434%\n",
      "epoch:  9  batch:   25 [    25/30]  loss: 0.05963340      accuracy: 97.5814%\n",
      "epoch:  9  batch:   26 [    26/30]  loss: 0.06423847      accuracy: 97.4110%\n",
      "epoch:  9  batch:   27 [    27/30]  loss: 0.05640789      accuracy: 97.5746%\n",
      "epoch:  9  batch:   28 [    28/30]  loss: 0.04935260      accuracy: 97.9069%\n",
      "epoch:  9  batch:   29 [    29/30]  loss: 0.06249694      accuracy: 97.3910%\n",
      "epoch:  9  batch:   30 [    30/30]  loss: 0.06528601      accuracy: 97.2244%\n",
      "previous loss :0.07083696871995926 and valid loss is 0.05261262133717537\n",
      "earlystoping is getting 0......0\n",
      "epoch: 10  batch:    1 [     1/30]  loss: 0.05186927      accuracy: 97.7775%\n",
      "epoch: 10  batch:    2 [     2/30]  loss: 0.06375314      accuracy: 97.2583%\n",
      "epoch: 10  batch:    3 [     3/30]  loss: 0.05383980      accuracy: 97.6242%\n",
      "epoch: 10  batch:    4 [     4/30]  loss: 0.05743422      accuracy: 97.6744%\n",
      "epoch: 10  batch:    5 [     5/30]  loss: 0.05575052      accuracy: 97.7124%\n",
      "epoch: 10  batch:    6 [     6/30]  loss: 0.05574762      accuracy: 97.7580%\n",
      "epoch: 10  batch:    7 [     7/30]  loss: 0.06086442      accuracy: 97.5385%\n"
     ]
    },
    {
     "name": "stdout",
     "output_type": "stream",
     "text": [
      "epoch: 10  batch:    8 [     8/30]  loss: 0.04797484      accuracy: 98.0206%\n",
      "epoch: 10  batch:    9 [     9/30]  loss: 0.05827295      accuracy: 97.6343%\n",
      "epoch: 10  batch:   10 [    10/30]  loss: 0.05225782      accuracy: 97.8451%\n",
      "epoch: 10  batch:   11 [    11/30]  loss: 0.05256791      accuracy: 97.7772%\n",
      "epoch: 10  batch:   12 [    12/30]  loss: 0.05581668      accuracy: 97.7639%\n",
      "epoch: 10  batch:   13 [    13/30]  loss: 0.05376458      accuracy: 97.7903%\n",
      "epoch: 10  batch:   14 [    14/30]  loss: 0.05735528      accuracy: 97.6074%\n",
      "epoch: 10  batch:   15 [    15/30]  loss: 0.04630073      accuracy: 98.1415%\n",
      "epoch: 10  batch:   16 [    16/30]  loss: 0.05059241      accuracy: 97.8876%\n",
      "epoch: 10  batch:   17 [    17/30]  loss: 0.05322646      accuracy: 97.7656%\n",
      "epoch: 10  batch:   18 [    18/30]  loss: 0.05300810      accuracy: 97.8315%\n",
      "epoch: 10  batch:   19 [    19/30]  loss: 0.04614590      accuracy: 98.0518%\n",
      "epoch: 10  batch:   20 [    20/30]  loss: 0.04968761      accuracy: 97.9042%\n",
      "epoch: 10  batch:   21 [    21/30]  loss: 0.04939090      accuracy: 97.9045%\n",
      "epoch: 10  batch:   22 [    22/30]  loss: 0.05661242      accuracy: 97.5361%\n",
      "epoch: 10  batch:   23 [    23/30]  loss: 0.06426787      accuracy: 97.3234%\n",
      "epoch: 10  batch:   24 [    24/30]  loss: 0.04824889      accuracy: 98.0252%\n",
      "epoch: 10  batch:   25 [    25/30]  loss: 0.06714023      accuracy: 97.1712%\n",
      "epoch: 10  batch:   26 [    26/30]  loss: 0.05966477      accuracy: 97.4818%\n",
      "epoch: 10  batch:   27 [    27/30]  loss: 0.05325500      accuracy: 97.7520%\n",
      "epoch: 10  batch:   28 [    28/30]  loss: 0.04698785      accuracy: 98.1030%\n",
      "epoch: 10  batch:   29 [    29/30]  loss: 0.05346706      accuracy: 97.8120%\n",
      "epoch: 10  batch:   30 [    30/30]  loss: 0.04529122      accuracy: 98.0238%\n",
      "previous loss :0.05261262133717537 and valid loss is 0.08782216161489487\n",
      "earlystopping increasing......1\n",
      "epoch: 11  batch:    1 [     1/30]  loss: 0.05107722      accuracy: 97.8073%\n",
      "epoch: 11  batch:    2 [     2/30]  loss: 0.04455038      accuracy: 98.1462%\n",
      "epoch: 11  batch:    3 [     3/30]  loss: 0.05808672      accuracy: 97.5868%\n",
      "epoch: 11  batch:    4 [     4/30]  loss: 0.06215976      accuracy: 97.4495%\n",
      "epoch: 11  batch:    5 [     5/30]  loss: 0.06612217      accuracy: 97.2336%\n",
      "epoch: 11  batch:    6 [     6/30]  loss: 0.04688711      accuracy: 97.9856%\n",
      "epoch: 11  batch:    7 [     7/30]  loss: 0.06052531      accuracy: 97.4414%\n",
      "epoch: 11  batch:    8 [     8/30]  loss: 0.05942939      accuracy: 97.5062%\n",
      "epoch: 11  batch:    9 [     9/30]  loss: 0.06699327      accuracy: 97.1956%\n",
      "epoch: 11  batch:   10 [    10/30]  loss: 0.06051423      accuracy: 97.5279%\n",
      "epoch: 11  batch:   11 [    11/30]  loss: 0.05062699      accuracy: 97.8562%\n",
      "epoch: 11  batch:   12 [    12/30]  loss: 0.05432586      accuracy: 97.6077%\n",
      "epoch: 11  batch:   13 [    13/30]  loss: 0.04196647      accuracy: 98.2815%\n",
      "epoch: 11  batch:   14 [    14/30]  loss: 0.04855584      accuracy: 98.0575%\n",
      "epoch: 11  batch:   15 [    15/30]  loss: 0.04887276      accuracy: 97.9186%\n",
      "epoch: 11  batch:   16 [    16/30]  loss: 0.05368288      accuracy: 97.8288%\n",
      "epoch: 11  batch:   17 [    17/30]  loss: 0.05688827      accuracy: 97.6592%\n",
      "epoch: 11  batch:   18 [    18/30]  loss: 0.04694570      accuracy: 98.0751%\n",
      "epoch: 11  batch:   19 [    19/30]  loss: 0.05884542      accuracy: 97.6714%\n",
      "epoch: 11  batch:   20 [    20/30]  loss: 0.05565182      accuracy: 97.6465%\n",
      "epoch: 11  batch:   21 [    21/30]  loss: 0.04294575      accuracy: 98.2650%\n",
      "epoch: 11  batch:   22 [    22/30]  loss: 0.04889946      accuracy: 98.0252%\n",
      "epoch: 11  batch:   23 [    23/30]  loss: 0.04703628      accuracy: 98.1182%\n",
      "epoch: 11  batch:   24 [    24/30]  loss: 0.05676306      accuracy: 97.5410%\n",
      "epoch: 11  batch:   25 [    25/30]  loss: 0.05648138      accuracy: 97.6562%\n",
      "epoch: 11  batch:   26 [    26/30]  loss: 0.04322213      accuracy: 98.2373%\n",
      "epoch: 11  batch:   27 [    27/30]  loss: 0.04913732      accuracy: 97.9031%\n",
      "epoch: 11  batch:   28 [    28/30]  loss: 0.05781533      accuracy: 97.6226%\n",
      "epoch: 11  batch:   29 [    29/30]  loss: 0.05640314      accuracy: 97.6169%\n",
      "epoch: 11  batch:   30 [    30/30]  loss: 0.05351749      accuracy: 97.7463%\n",
      "previous loss :0.08782216161489487 and valid loss is 0.05155710130929947\n",
      "earlystoping is getting 0......0\n",
      "epoch: 12  batch:    1 [     1/30]  loss: 0.04945118      accuracy: 97.9427%\n",
      "epoch: 12  batch:    2 [     2/30]  loss: 0.05465251      accuracy: 97.7165%\n",
      "epoch: 12  batch:    3 [     3/30]  loss: 0.03557590      accuracy: 98.4988%\n",
      "epoch: 12  batch:    4 [     4/30]  loss: 0.05115341      accuracy: 97.7913%\n",
      "epoch: 12  batch:    5 [     5/30]  loss: 0.04574459      accuracy: 98.1209%\n",
      "epoch: 12  batch:    6 [     6/30]  loss: 0.05537472      accuracy: 97.6850%\n",
      "epoch: 12  batch:    7 [     7/30]  loss: 0.05017711      accuracy: 97.8255%\n",
      "epoch: 12  batch:    8 [     8/30]  loss: 0.04292731      accuracy: 98.2452%\n",
      "epoch: 12  batch:    9 [     9/30]  loss: 0.05473913      accuracy: 97.7368%\n",
      "epoch: 12  batch:   10 [    10/30]  loss: 0.04174555      accuracy: 98.2680%\n",
      "epoch: 12  batch:   11 [    11/30]  loss: 0.04404303      accuracy: 98.1847%\n",
      "epoch: 12  batch:   12 [    12/30]  loss: 0.05828614      accuracy: 97.4786%\n",
      "epoch: 12  batch:   13 [    13/30]  loss: 0.04484474      accuracy: 98.1478%\n",
      "epoch: 12  batch:   14 [    14/30]  loss: 0.05576376      accuracy: 97.7035%\n",
      "epoch: 12  batch:   15 [    15/30]  loss: 0.05235367      accuracy: 97.7322%\n",
      "epoch: 12  batch:   16 [    16/30]  loss: 0.05567854      accuracy: 97.6533%\n",
      "epoch: 12  batch:   17 [    17/30]  loss: 0.05746716      accuracy: 97.6128%\n",
      "epoch: 12  batch:   18 [    18/30]  loss: 0.05682594      accuracy: 97.6698%\n",
      "epoch: 12  batch:   19 [    19/30]  loss: 0.05449368      accuracy: 97.8217%\n",
      "epoch: 12  batch:   20 [    20/30]  loss: 0.04511245      accuracy: 98.0857%\n",
      "epoch: 12  batch:   21 [    21/30]  loss: 0.05343978      accuracy: 97.7615%\n",
      "epoch: 12  batch:   22 [    22/30]  loss: 0.04962596      accuracy: 97.8437%\n",
      "epoch: 12  batch:   23 [    23/30]  loss: 0.04326616      accuracy: 98.2311%\n",
      "epoch: 12  batch:   24 [    24/30]  loss: 0.06270237      accuracy: 97.3047%\n",
      "epoch: 12  batch:   25 [    25/30]  loss: 0.04478404      accuracy: 98.1394%\n",
      "epoch: 12  batch:   26 [    26/30]  loss: 0.04586197      accuracy: 98.1307%\n",
      "epoch: 12  batch:   27 [    27/30]  loss: 0.04369612      accuracy: 98.0553%\n",
      "epoch: 12  batch:   28 [    28/30]  loss: 0.05815070      accuracy: 97.5830%\n",
      "epoch: 12  batch:   29 [    29/30]  loss: 0.05084120      accuracy: 97.9262%\n",
      "epoch: 12  batch:   30 [    30/30]  loss: 0.04169786      accuracy: 98.2492%\n",
      "previous loss :0.05155710130929947 and valid loss is 0.04813874512910843\n",
      "earlystoping is getting 0......0\n",
      "epoch: 13  batch:    1 [     1/30]  loss: 0.03905671      accuracy: 98.3209%\n",
      "epoch: 13  batch:    2 [     2/30]  loss: 0.05151471      accuracy: 97.8548%\n",
      "epoch: 13  batch:    3 [     3/30]  loss: 0.04878912      accuracy: 97.9492%\n",
      "epoch: 13  batch:    4 [     4/30]  loss: 0.05426536      accuracy: 97.6687%\n",
      "epoch: 13  batch:    5 [     5/30]  loss: 0.05450702      accuracy: 97.7683%\n",
      "epoch: 13  batch:    6 [     6/30]  loss: 0.04638759      accuracy: 98.0675%\n",
      "epoch: 13  batch:    7 [     7/30]  loss: 0.04948360      accuracy: 97.9647%\n",
      "epoch: 13  batch:    8 [     8/30]  loss: 0.04844589      accuracy: 98.0602%\n",
      "epoch: 13  batch:    9 [     9/30]  loss: 0.04726700      accuracy: 98.0485%\n",
      "epoch: 13  batch:   10 [    10/30]  loss: 0.05373524      accuracy: 97.7300%\n",
      "epoch: 13  batch:   11 [    11/30]  loss: 0.05183611      accuracy: 97.7167%\n",
      "epoch: 13  batch:   12 [    12/30]  loss: 0.05159140      accuracy: 97.8852%\n",
      "epoch: 13  batch:   13 [    13/30]  loss: 0.03865026      accuracy: 98.3290%\n",
      "epoch: 13  batch:   14 [    14/30]  loss: 0.04598660      accuracy: 98.0575%\n",
      "epoch: 13  batch:   15 [    15/30]  loss: 0.04681121      accuracy: 98.0743%\n",
      "epoch: 13  batch:   16 [    16/30]  loss: 0.04283863      accuracy: 98.1950%\n",
      "epoch: 13  batch:   17 [    17/30]  loss: 0.05646998      accuracy: 97.6340%\n",
      "epoch: 13  batch:   18 [    18/30]  loss: 0.04659663      accuracy: 98.0675%\n",
      "epoch: 13  batch:   19 [    19/30]  loss: 0.04118585      accuracy: 98.3526%\n",
      "epoch: 13  batch:   20 [    20/30]  loss: 0.04335127      accuracy: 98.1879%\n"
     ]
    },
    {
     "name": "stdout",
     "output_type": "stream",
     "text": [
      "epoch: 13  batch:   21 [    21/30]  loss: 0.04954875      accuracy: 97.9134%\n",
      "epoch: 13  batch:   22 [    22/30]  loss: 0.04664038      accuracy: 97.9951%\n",
      "epoch: 13  batch:   23 [    23/30]  loss: 0.04180164      accuracy: 98.2606%\n",
      "epoch: 13  batch:   24 [    24/30]  loss: 0.04589666      accuracy: 98.1321%\n",
      "epoch: 13  batch:   25 [    25/30]  loss: 0.05294542      accuracy: 97.7355%\n",
      "epoch: 13  batch:   26 [    26/30]  loss: 0.04959034      accuracy: 97.9088%\n",
      "epoch: 13  batch:   27 [    27/30]  loss: 0.04723594      accuracy: 98.0740%\n",
      "epoch: 13  batch:   28 [    28/30]  loss: 0.04852648      accuracy: 97.9679%\n",
      "epoch: 13  batch:   29 [    29/30]  loss: 0.03953396      accuracy: 98.3341%\n",
      "epoch: 13  batch:   30 [    30/30]  loss: 0.04709777      accuracy: 98.0444%\n",
      "previous loss :0.04813874512910843 and valid loss is 0.06548555195331573\n",
      "earlystopping increasing......1\n",
      "epoch: 14  batch:    1 [     1/30]  loss: 0.04338250      accuracy: 98.1963%\n",
      "epoch: 14  batch:    2 [     2/30]  loss: 0.03034415      accuracy: 98.7150%\n",
      "epoch: 14  batch:    3 [     3/30]  loss: 0.04603656      accuracy: 98.0623%\n",
      "epoch: 14  batch:    4 [     4/30]  loss: 0.04921229      accuracy: 97.8787%\n",
      "epoch: 14  batch:    5 [     5/30]  loss: 0.04318598      accuracy: 98.2433%\n",
      "epoch: 14  batch:    6 [     6/30]  loss: 0.06121456      accuracy: 97.4159%\n",
      "epoch: 14  batch:    7 [     7/30]  loss: 0.04289502      accuracy: 98.2400%\n",
      "epoch: 14  batch:    8 [     8/30]  loss: 0.04296874      accuracy: 98.2520%\n",
      "epoch: 14  batch:    9 [     9/30]  loss: 0.04083022      accuracy: 98.3301%\n",
      "epoch: 14  batch:   10 [    10/30]  loss: 0.04161952      accuracy: 98.1722%\n",
      "epoch: 14  batch:   11 [    11/30]  loss: 0.04186935      accuracy: 98.2370%\n",
      "epoch: 14  batch:   12 [    12/30]  loss: 0.04708266      accuracy: 98.0178%\n",
      "epoch: 14  batch:   13 [    13/30]  loss: 0.05322647      accuracy: 97.7783%\n",
      "epoch: 14  batch:   14 [    14/30]  loss: 0.04568222      accuracy: 98.1052%\n",
      "epoch: 14  batch:   15 [    15/30]  loss: 0.04824255      accuracy: 97.9522%\n",
      "epoch: 14  batch:   16 [    16/30]  loss: 0.04587651      accuracy: 98.0534%\n",
      "epoch: 14  batch:   17 [    17/30]  loss: 0.04719409      accuracy: 97.9541%\n",
      "epoch: 14  batch:   18 [    18/30]  loss: 0.04668758      accuracy: 98.0569%\n",
      "epoch: 14  batch:   19 [    19/30]  loss: 0.04732317      accuracy: 97.9606%\n",
      "epoch: 14  batch:   20 [    20/30]  loss: 0.05016531      accuracy: 97.8730%\n",
      "epoch: 14  batch:   21 [    21/30]  loss: 0.03921146      accuracy: 98.4017%\n",
      "epoch: 14  batch:   22 [    22/30]  loss: 0.05311994      accuracy: 97.6367%\n",
      "epoch: 14  batch:   23 [    23/30]  loss: 0.04920372      accuracy: 97.9053%\n",
      "epoch: 14  batch:   24 [    24/30]  loss: 0.04423317      accuracy: 98.0781%\n",
      "epoch: 14  batch:   25 [    25/30]  loss: 0.04714651      accuracy: 98.0303%\n",
      "epoch: 14  batch:   26 [    26/30]  loss: 0.03774780      accuracy: 98.3626%\n",
      "epoch: 14  batch:   27 [    27/30]  loss: 0.04297765      accuracy: 98.2050%\n",
      "epoch: 14  batch:   28 [    28/30]  loss: 0.04595430      accuracy: 98.0184%\n",
      "epoch: 14  batch:   29 [    29/30]  loss: 0.05439613      accuracy: 97.7249%\n",
      "epoch: 14  batch:   30 [    30/30]  loss: 0.05718499      accuracy: 97.5401%\n",
      "previous loss :0.06548555195331573 and valid loss is 0.06599661707878113\n",
      "earlystopping increasing......2\n",
      "epoch: 15  batch:    1 [     1/30]  loss: 0.04849238      accuracy: 97.9178%\n",
      "epoch: 15  batch:    2 [     2/30]  loss: 0.03939481      accuracy: 98.2899%\n",
      "epoch: 15  batch:    3 [     3/30]  loss: 0.04340281      accuracy: 98.1288%\n",
      "epoch: 15  batch:    4 [     4/30]  loss: 0.05487738      accuracy: 97.9519%\n",
      "epoch: 15  batch:    5 [     5/30]  loss: 0.04557528      accuracy: 98.0029%\n",
      "epoch: 15  batch:    6 [     6/30]  loss: 0.03756397      accuracy: 98.3181%\n",
      "epoch: 15  batch:    7 [     7/30]  loss: 0.04791934      accuracy: 98.0433%\n",
      "epoch: 15  batch:    8 [     8/30]  loss: 0.04032823      accuracy: 98.3415%\n",
      "epoch: 15  batch:    9 [     9/30]  loss: 0.05817362      accuracy: 97.5920%\n",
      "epoch: 15  batch:   10 [    10/30]  loss: 0.04126326      accuracy: 98.3390%\n",
      "epoch: 15  batch:   11 [    11/30]  loss: 0.04267105      accuracy: 98.1958%\n",
      "epoch: 15  batch:   12 [    12/30]  loss: 0.04201806      accuracy: 98.1302%\n",
      "epoch: 15  batch:   13 [    13/30]  loss: 0.04746282      accuracy: 98.0531%\n",
      "epoch: 15  batch:   14 [    14/30]  loss: 0.04388751      accuracy: 98.1573%\n",
      "epoch: 15  batch:   15 [    15/30]  loss: 0.05732907      accuracy: 97.5811%\n",
      "epoch: 15  batch:   16 [    16/30]  loss: 0.04317723      accuracy: 98.1651%\n",
      "epoch: 15  batch:   17 [    17/30]  loss: 0.03937059      accuracy: 98.4017%\n",
      "epoch: 15  batch:   18 [    18/30]  loss: 0.04277426      accuracy: 98.2259%\n",
      "epoch: 15  batch:   19 [    19/30]  loss: 0.04307070      accuracy: 98.1698%\n",
      "epoch: 15  batch:   20 [    20/30]  loss: 0.04621278      accuracy: 98.0748%\n",
      "epoch: 15  batch:   21 [    21/30]  loss: 0.04769450      accuracy: 97.8790%\n",
      "epoch: 15  batch:   22 [    22/30]  loss: 0.04832005      accuracy: 97.9131%\n",
      "epoch: 15  batch:   23 [    23/30]  loss: 0.04845575      accuracy: 97.9926%\n",
      "epoch: 15  batch:   24 [    24/30]  loss: 0.04116825      accuracy: 98.2840%\n",
      "epoch: 15  batch:   25 [    25/30]  loss: 0.03119219      accuracy: 98.6252%\n",
      "epoch: 15  batch:   26 [    26/30]  loss: 0.04385261      accuracy: 98.1589%\n",
      "epoch: 15  batch:   27 [    27/30]  loss: 0.04502111      accuracy: 98.0835%\n",
      "epoch: 15  batch:   28 [    28/30]  loss: 0.04102343      accuracy: 98.2563%\n",
      "epoch: 15  batch:   29 [    29/30]  loss: 0.04750714      accuracy: 98.0339%\n",
      "epoch: 15  batch:   30 [    30/30]  loss: 0.04315705      accuracy: 98.2715%\n",
      "previous loss :0.06599661707878113 and valid loss is 0.07360593229532242\n",
      "earlystopping increasing......3\n",
      "Model is stoping......3\n",
      "=================training is done and model is saving ======================\n",
      "=================model is saved ======================\n"
     ]
    }
   ],
   "source": [
    "import time\n",
    "#atart_time=time.time ()\n",
    "\n",
    "epoch=60\n",
    "\n",
    "#max_trn_batch=80\n",
    "#max_tst_batch=30\n",
    "train_losses=[]\n",
    "valid_losses=[]\n",
    "train_acuracy=[]\n",
    "valid_acuracy=[]\n",
    "previousLoss=10\n",
    "earlystoping=0\n",
    "\n",
    "\n",
    "for i in range (epoch):\n",
    "    \n",
    "      \n",
    "    # Run the training batches\n",
    "    for b, (X_train1, y_train1) in enumerate(train_iter):\n",
    "        \n",
    "        \n",
    "        X_train=X_train1.view(X_train1.shape[0] ,1,192,192) \n",
    "        y_train=y_train1.view(y_train1.shape[0] ,1,192,192)\n",
    "\n",
    "        # Limit the number of batches\n",
    "        #if b == max_trn_batch:\n",
    "         #   break\n",
    "        b+=1\n",
    "        # Apply the model\n",
    "        y_pred = UNETmodel(X_train)\n",
    "        accur=accuracy(y_pred,y_train)\n",
    "        loss = criterion(y_pred, y_train)\n",
    "        # Update parameters\n",
    "        optimizer.zero_grad()\n",
    "        loss.backward()\n",
    "        optimizer.step()\n",
    "             # Print interim results\n",
    "        #if b%10 == 0:\n",
    "\n",
    "        print(f'epoch: {i:2}  batch: {b:4} [{b:6}/30]  loss: {loss.item():10.8f}  \\\n",
    "    accuracy: {accur:.4f}%')\n",
    "\n",
    "    train_losses.append(loss.item())\n",
    "    train_acuracy.append(accur)\n",
    "    with torch.no_grad():\n",
    "        UNETmodel.eval()\n",
    "    \n",
    "        for b, (X_valid1, y_valid1) in enumerate(valid_iter):\n",
    "\n",
    "            X_valid=X_valid1.view(X_valid1.shape[0] ,1,192,192) \n",
    "            y_valid=y_valid1.view(y_valid1.shape[0] ,1,192,192)\n",
    "            y_val=UNETmodel(X_valid) # y_val is predicted images of validation  \n",
    "            valid_losse= criterion(y_val, y_valid)\n",
    "            valid_accur=accuracy(y_val, y_valid)\n",
    "    print (f'previous loss :{previousLoss} and valid loss is {valid_losse}')\n",
    "    valid_losses.append(valid_losse.item())\n",
    "    valid_acuracy.append(valid_accur)\n",
    "       \n",
    "    if  round(previousLoss,3)<= round (valid_losse.item(),3):\n",
    "        earlystoping+=1\n",
    "        print (f'earlystopping increasing......{earlystoping}')\n",
    "        if earlystoping>=3:\n",
    "            print (f'Model is stoping......{earlystoping}')\n",
    "            break\n",
    "    else:\n",
    "        earlystoping=0\n",
    "        print (f'earlystoping is getting 0......{earlystoping}')\n",
    "        \n",
    "    previousLoss=valid_losse.item()\n",
    "print (f'=================training is done and model is saving ======================')\n",
    "path='umodel.pth'\n",
    "torch.save(UNETmodel.state_dict(), path)\n",
    "print (f'=================model is saved ======================')\n",
    "    \n",
    "            \n",
    "    \n",
    "\n",
    "        \n",
    "#print(f'\\nDuration: {time.time() - start_time:.0f} seconds') # print the time elapsed"
   ]
  },
  {
   "cell_type": "code",
   "execution_count": null,
   "metadata": {},
   "outputs": [],
   "source": [
    "'''print(\"Model's state_dict:\")\n",
    "for param_tensor in UNETmodel.state_dict():\n",
    "    print(param_tensor, \"\\t\", UNETmodel.state_dict()[param_tensor].size())\n",
    "\n",
    "# Print optimizer's state_dict\n",
    "print(\"Optimizer's state_dict:\")\n",
    "for var_name in optimizer.state_dict():\n",
    "    print(var_name, \"\\t\", optimizer.state_dict()[var_name])'''"
   ]
  },
  {
   "cell_type": "code",
   "execution_count": null,
   "metadata": {},
   "outputs": [],
   "source": []
  },
  {
   "cell_type": "markdown",
   "metadata": {},
   "source": [
    "plt.imshor [1,0,45,45]"
   ]
  },
  {
   "cell_type": "code",
   "execution_count": 15,
   "metadata": {},
   "outputs": [
    {
     "name": "stdout",
     "output_type": "stream",
     "text": [
      "tensor(6.4393)\n"
     ]
    },
    {
     "data": {
      "image/png": "[encoded data removed]",
      "text/plain": [
       "<Figure size 432x288 with 1 Axes>"
      ]
     },
     "metadata": {
      "needs_background": "light"
     },
     "output_type": "display_data"
    }
   ],
   "source": [
    "with torch.no_grad():\n",
    "    plt.imshow (y_pred[0,0])\n",
    "    print (y_pred[0,0].max())\n",
    "    "
   ]
  },
  {
   "cell_type": "code",
   "execution_count": 16,
   "metadata": {},
   "outputs": [
    {
     "data": {
      "image/png": "[encoded data removed]",
      "text/plain": [
       "<Figure size 432x288 with 1 Axes>"
      ]
     },
     "metadata": {
      "needs_background": "light"
     },
     "output_type": "display_data"
    }
   ],
   "source": [
    "with torch.no_grad():\n",
    "    y=nn.Sigmoid()(y_pred)\n",
    "    y[y<0.2]=0\n",
    "    y[y>=0.2]=1\n",
    "    y=y.numpy().astype(np.uint8)\n",
    "    plt.imshow (y[0,0])"
   ]
  },
  {
   "cell_type": "code",
   "execution_count": 17,
   "metadata": {},
   "outputs": [
    {
     "data": {
      "image/png": "[encoded data removed]",
      "text/plain": [
       "<Figure size 432x288 with 1 Axes>"
      ]
     },
     "metadata": {
      "needs_background": "light"
     },
     "output_type": "display_data"
    }
   ],
   "source": [
    "with torch.no_grad():\n",
    "    plt.imshow (y_train[0,0])"
   ]
  },
  {
   "cell_type": "code",
   "execution_count": 18,
   "metadata": {},
   "outputs": [
    {
     "data": {
      "image/png": "[encoded data removed]",
      "text/plain": [
       "<Figure size 432x288 with 1 Axes>"
      ]
     },
     "metadata": {
      "needs_background": "light"
     },
     "output_type": "display_data"
    }
   ],
   "source": [
    "with torch.no_grad():\n",
    "    plt.imshow (y_valid[0,0])"
   ]
  },
  {
   "cell_type": "code",
   "execution_count": 19,
   "metadata": {},
   "outputs": [
    {
     "data": {
      "image/png": "[encoded data removed]",
      "text/plain": [
       "<Figure size 432x288 with 1 Axes>"
      ]
     },
     "metadata": {
      "needs_background": "light"
     },
     "output_type": "display_data"
    }
   ],
   "source": [
    "with torch.no_grad():\n",
    "    plt.imshow (y_val[0,0])"
   ]
  },
  {
   "cell_type": "code",
   "execution_count": 20,
   "metadata": {},
   "outputs": [
    {
     "data": {
      "image/png": "[encoded data removed]",
      "text/plain": [
       "<Figure size 432x288 with 1 Axes>"
      ]
     },
     "metadata": {
      "needs_background": "light"
     },
     "output_type": "display_data"
    }
   ],
   "source": [
    "# predicted for validation\n",
    "with torch.no_grad():\n",
    "    y=nn.Sigmoid()(y_val)\n",
    "    y[y<0.2]=0\n",
    "    y[y>=0.2]=1\n",
    "    y=y.numpy().astype(np.uint8)\n",
    "    plt.imshow (y[0,0])"
   ]
  },
  {
   "cell_type": "code",
   "execution_count": null,
   "metadata": {},
   "outputs": [],
   "source": [
    "\n",
    "'''with torch.no_grad():\n",
    "    pred=nn.Sigmoid()(y_pred)\n",
    "    pred[pred<0.5]=0\n",
    "    pred[pred>=0.5]=1\n",
    "    pred=pred.numpy().astype(np.uint8)\n",
    "    train=y_train.numpy().astype(np.uint8)\n",
    "    pred=pred.ravel ()\n",
    "    train=train.ravel ()\n",
    "    match=len (np.where(pred==train)[0])\n",
    "    acc=((match/len(pred))*100) '''         "
   ]
  },
  {
   "cell_type": "code",
   "execution_count": null,
   "metadata": {},
   "outputs": [],
   "source": [
    "#train_losses_array =np.array ([loss.item() for loss in train_losses])\n",
    "#print(f'train losses is {train_losses_array}')\n",
    "#valid_losses_array=np.array([loss.item() for loss in valid_losses])\n",
    "#print(f'valid losses is {valid_losses_array}')"
   ]
  },
  {
   "cell_type": "code",
   "execution_count": 21,
   "metadata": {},
   "outputs": [
    {
     "name": "stdout",
     "output_type": "stream",
     "text": [
      "train accuracy is [0.37440822 0.10248201 0.10895495 0.09089427 0.07709326 0.07097311\n",
      " 0.05491965 0.07109841 0.06550968 0.06528601 0.04529122 0.05351749\n",
      " 0.04169786 0.04709777 0.05718499 0.04315705]\n",
      "valid accuracy is [2.93693709 0.09542404 0.07765558 0.08082358 0.07844673 0.05954756\n",
      " 0.07557    0.06077458 0.07083697 0.05261262 0.08782216 0.0515571\n",
      " 0.04813875 0.06548555 0.06599662 0.07360593]\n"
     ]
    }
   ],
   "source": [
    "train_losses_array =np.array (train_losses)\n",
    "print(f'train accuracy is {train_losses_array}')\n",
    "valid_losses_array =np.array (valid_losses)\n",
    "print(f'valid accuracy is {valid_losses_array}')"
   ]
  },
  {
   "cell_type": "code",
   "execution_count": 22,
   "metadata": {},
   "outputs": [
    {
     "data": {
      "image/png": "[encoded data removed]",
      "text/plain": [
       "<Figure size 432x288 with 1 Axes>"
      ]
     },
     "metadata": {
      "needs_background": "light"
     },
     "output_type": "display_data"
    }
   ],
   "source": [
    "#Loss at the end of each epoch\n",
    "plt.plot(train_losses_array, label='training loss')\n",
    "plt.plot(valid_losses_array, label='validation loss')\n",
    "plt.title('Loss at the end of each epoch')\n",
    "plt.legend();"
   ]
  },
  {
   "cell_type": "code",
   "execution_count": 23,
   "metadata": {},
   "outputs": [
    {
     "name": "stdout",
     "output_type": "stream",
     "text": [
      "train accuracy is [95.71967231 95.55094401 95.15977648 96.61539714 96.89751519 96.88368056\n",
      " 97.71240234 97.12863498 97.41753472 97.22439236 98.02381727 97.74631076\n",
      " 98.24924045 98.04443359 97.54014757 98.27148438]\n",
      "valid accuracy is [ 9.4938151  96.01128472 97.09852431 96.93630642 96.8891059  97.5797526\n",
      " 97.1999783  97.51193576 97.02582465 97.74576823 96.23372396 97.80978733\n",
      " 98.1391059  97.39908854 97.24175347 97.17556424]\n"
     ]
    }
   ],
   "source": [
    "train_accuracy_array =np.array (train_acuracy)\n",
    "print(f'train accuracy is {train_accuracy_array}')\n",
    "valid_accuracy_array=np.array( valid_acuracy)\n",
    "print(f'valid accuracy is {valid_accuracy_array}')"
   ]
  },
  {
   "cell_type": "code",
   "execution_count": 24,
   "metadata": {},
   "outputs": [
    {
     "data": {
      "text/plain": [
       "list"
      ]
     },
     "execution_count": 24,
     "metadata": {},
     "output_type": "execute_result"
    }
   ],
   "source": [
    "type (train_acuracy)"
   ]
  },
  {
   "cell_type": "code",
   "execution_count": 25,
   "metadata": {},
   "outputs": [
    {
     "data": {
      "image/png": "[encoded data removed]",
      "text/plain": [
       "<Figure size 432x288 with 1 Axes>"
      ]
     },
     "metadata": {
      "needs_background": "light"
     },
     "output_type": "display_data"
    }
   ],
   "source": [
    "#Accuracy at the end of each epoch\n",
    "plt.plot(train_accuracy_array, label='training accuracy')\n",
    "plt.plot(valid_accuracy_array, label='validation accuracy')\n",
    "plt.title('accuracy at the end of each epoch')\n",
    "plt.legend();"
   ]
  },
  {
   "cell_type": "code",
   "execution_count": null,
   "metadata": {},
   "outputs": [],
   "source": [
    "round (valid_losse.item(),3)"
   ]
  },
  {
   "cell_type": "code",
   "execution_count": null,
   "metadata": {},
   "outputs": [],
   "source": [
    "round(previousLoss,3)"
   ]
  },
  {
   "cell_type": "code",
   "execution_count": null,
   "metadata": {},
   "outputs": [],
   "source": [
    "previousLoss"
   ]
  },
  {
   "cell_type": "code",
   "execution_count": null,
   "metadata": {},
   "outputs": [],
   "source": [
    "train_losses"
   ]
  },
  {
   "cell_type": "code",
   "execution_count": null,
   "metadata": {},
   "outputs": [],
   "source": [
    "type (train_losses)"
   ]
  },
  {
   "cell_type": "code",
   "execution_count": null,
   "metadata": {},
   "outputs": [],
   "source": []
  },
  {
   "cell_type": "code",
   "execution_count": null,
   "metadata": {},
   "outputs": [],
   "source": []
  }
 ],
 "metadata": {
  "colab": {
   "collapsed_sections": [],
   "name": "unet",
   "provenance": []
  },
  "kernelspec": {
   "display_name": "Python 3",
   "language": "python",
   "name": "python3"
  },
  "language_info": {
   "codemirror_mode": {
    "name": "ipython",
    "version": 3
   },
   "file_extension": ".py",
   "mimetype": "text/x-python",
   "name": "python",
   "nbconvert_exporter": "python",
   "pygments_lexer": "ipython3",
   "version": "3.8.1"
  }
 },
 "nbformat": 4,
 "nbformat_minor": 1
}
